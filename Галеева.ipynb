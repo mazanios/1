{
  "nbformat": 4,
  "nbformat_minor": 0,
  "metadata": {
    "colab": {
      "name": "Галеева.ipynb",
      "provenance": [],
      "collapsed_sections": [
        "17B9Gas6CoMK",
        "MH2mcy_Fhkob",
        "2P1lazmICvV2",
        "WD_9AQjlC0Ls"
      ],
      "include_colab_link": true
    },
    "kernelspec": {
      "name": "python3",
      "display_name": "Python 3"
    }
  },
  "cells": [
    {
      "cell_type": "markdown",
      "metadata": {
        "id": "view-in-github",
        "colab_type": "text"
      },
      "source": [
        "<a href=\"https://colab.research.google.com/github/mazanios/1/blob/master/%D0%93%D0%B0%D0%BB%D0%B5%D0%B5%D0%B2%D0%B0.ipynb\" target=\"_parent\"><img src=\"https://colab.research.google.com/assets/colab-badge.svg\" alt=\"Open In Colab\"/></a>"
      ]
    },
    {
      "cell_type": "markdown",
      "metadata": {
        "id": "H82HdKbi2uNO"
      },
      "source": [
        "# Задача 1"
      ]
    },
    {
      "cell_type": "markdown",
      "metadata": {
        "id": "wupuNKRJ3NJz"
      },
      "source": [
        "## Решите первую смешанную краевую задачу для однородного волнового уравнения на отрезке:"
      ]
    },
    {
      "cell_type": "markdown",
      "metadata": {
        "id": "GwD538lt5dhw"
      },
      "source": [
        "<tex>$$ u_{tt} = a^2u_{xx}, \\quad \\quad 0<x<l, \\quad \\quad 0<t<\\infty  \\quad \\quad (1)$$</tex>"
      ]
    },
    {
      "cell_type": "markdown",
      "metadata": {
        "id": "-wHAlyvBQZq3"
      },
      "source": [
        "<tex>$$ u(x, 0) = f_1(x), \\quad \\quad u_t(x, 0) = f_2(x) \\quad \\quad (2)$$</tex>"
      ]
    },
    {
      "cell_type": "markdown",
      "metadata": {
        "id": "8lIWC6eYRXuk"
      },
      "source": [
        "<tex>$$ u(0, t) = 0, \\quad \\quad u(l, t) = 0 \\quad \\quad (3)$$</tex>"
      ]
    },
    {
      "cell_type": "code",
      "metadata": {
        "colab": {
          "base_uri": "https://localhost:8080/",
          "height": 217
        },
        "id": "YH_QJuihgL9q",
        "outputId": "81f5a1d4-aa0b-47cc-e7d9-dffca65460c9"
      },
      "source": [
        "draw(latex('u(x, 0)') + '=' + latex('f_1(x)') + '=' + latex(f1_sympy))\n",
        "draw(latex('u_t(x,' + str(ll) + ')') + '=' + latex('f_2(x)') + '=' + latex(f2_sympy))"
      ],
      "execution_count": null,
      "outputs": [
        {
          "output_type": "display_data",
          "data": {
            "image/png": "[encoded data removed]",
            "text/plain": [
              "<Figure size 432x288 with 1 Axes>"
            ]
          },
          "metadata": {
            "tags": []
          }
        },
        {
          "output_type": "display_data",
          "data": {
            "image/png": "[encoded data removed]",
            "text/plain": [
              "<Figure size 432x288 with 1 Axes>"
            ]
          },
          "metadata": {
            "tags": []
          }
        }
      ]
    },
    {
      "cell_type": "markdown",
      "metadata": {
        "id": "u8KUzYmOxXic"
      },
      "source": [
        "## Решение: Для решения смешанной задачи (1) - (3) применим метод Фурье разделения переменных. Будем искать нетривиальное решение задачи в виде :"
      ]
    },
    {
      "cell_type": "markdown",
      "metadata": {
        "id": "qp-TudPv4V8M"
      },
      "source": [
        "$$u(x, t) = T(t) * X(x)$$"
      ]
    },
    {
      "cell_type": "markdown",
      "metadata": {
        "id": "Ckkd1lJd4UiI"
      },
      "source": [
        "## Подставим предполагаемую форму решения в исходное уравнение (1)\n",
        "\n"
      ]
    },
    {
      "cell_type": "markdown",
      "metadata": {
        "id": "r0xWcJN55udv"
      },
      "source": [
        "$$T''(t)X(x) = a^2T(t)X''(x)$$"
      ]
    },
    {
      "cell_type": "markdown",
      "metadata": {
        "id": "muBaLcDJ41co"
      },
      "source": [
        " Разделим равенство на :  $\\quad a^2T(t)X(x)$"
      ]
    },
    {
      "cell_type": "markdown",
      "metadata": {
        "id": "D-6XAE1j6csv"
      },
      "source": [
        "$$\\frac{T''(t)}{a^2T(t)} = \\frac{X''(x)}{X(x)} = -\\lambda$$"
      ]
    },
    {
      "cell_type": "markdown",
      "metadata": {
        "id": "IzDMK0Xw6B_4"
      },
      "source": [
        "т.к. левая часть равенства зависит только от t, а правая – только от x.\n",
        "\n"
      ]
    },
    {
      "cell_type": "markdown",
      "metadata": {
        "id": "1pMqll3X65kJ"
      },
      "source": [
        "## В результате переменные разделяются, и получается два линейных обыкновенных дифференциальных уравнения :"
      ]
    },
    {
      "cell_type": "markdown",
      "metadata": {
        "id": "Tq5ED4y97D42"
      },
      "source": [
        "$$T''(t) + a^2\\lambda T(t) = 0$$"
      ]
    },
    {
      "cell_type": "markdown",
      "metadata": {
        "id": "fJDZbj5J7UQl"
      },
      "source": [
        "$$X''(x) + \\lambda X(x) = 0$$"
      ]
    },
    {
      "cell_type": "markdown",
      "metadata": {
        "id": "Z7pym0NK7ddi"
      },
      "source": [
        "Подставляя $u(x, t)$  в виде $T(t)X(x)$  в граничные условия (2), получим:"
      ]
    },
    {
      "cell_type": "markdown",
      "metadata": {
        "id": "Kil2_2FI7n04"
      },
      "source": [
        "$$u(0, t) = T(t)X(0) = 0, \\quad \\quad u(l, t) = T(t)X(l) = 0$$"
      ]
    },
    {
      "cell_type": "markdown",
      "metadata": {
        "id": "6tK2tJ2J8JNg"
      },
      "source": [
        "Поскольку равенства должны выполняться тождественно, то:"
      ]
    },
    {
      "cell_type": "markdown",
      "metadata": {
        "id": "8Q1L6SwA8K_p"
      },
      "source": [
        "$$X(0) = 0, \\quad \\quad X(l) = 0$$"
      ]
    },
    {
      "cell_type": "markdown",
      "metadata": {
        "id": "NfXe9HNK8WuD"
      },
      "source": [
        "## Таким образом, для функции  получили задачу Штурма-Лиувилля:"
      ]
    },
    {
      "cell_type": "markdown",
      "metadata": {
        "id": "UWEpDRDl8Z75"
      },
      "source": [
        "\\begin{equation*}\n",
        " \\begin{cases}\n",
        "   X''(x) + \\lambda X(x) = 0\\\\\n",
        "   X(0) = 0, X(l) = 0\n",
        " \\end{cases}\n",
        "\\end{equation*}"
      ]
    },
    {
      "cell_type": "markdown",
      "metadata": {
        "id": "D9ijCRIr9A8l"
      },
      "source": [
        "## Общее решение имеет вид:"
      ]
    },
    {
      "cell_type": "markdown",
      "metadata": {
        "id": "pk5dncU99Cjo"
      },
      "source": [
        "$$X(x) = C_1cos(\\sqrt{\\lambda}x) + C_2sin(\\sqrt{\\lambda}x)$$"
      ]
    },
    {
      "cell_type": "markdown",
      "metadata": {
        "id": "2jcrrGab9W5B"
      },
      "source": [
        "## Неизвестные коэффициенты найдем из граничных условий:"
      ]
    },
    {
      "cell_type": "markdown",
      "metadata": {
        "id": "yFHjfv3v9ahM"
      },
      "source": [
        "\\begin{equation*}\n",
        " \\begin{cases}\n",
        "   X(0) = C_1 = 0\\\\\n",
        "   X(l) = C_2sin(\\sqrt{\\lambda}x) = 0\n",
        " \\end{cases}\n",
        "\\end{equation*}"
      ]
    },
    {
      "cell_type": "markdown",
      "metadata": {
        "id": "k_fedbTX9xz1"
      },
      "source": [
        "Получили спектральное уравнение для нахождения собственных значений $\\lambda$ задачи Штурма-Лиувилля:"
      ]
    },
    {
      "cell_type": "markdown",
      "metadata": {
        "id": "Dt346-7N98Su"
      },
      "source": [
        "$$sin(\\sqrt{\\lambda}x) = 0,\n",
        "\\sqrt{\\lambda}l = \\pi n, \\quad n = 1, 2, ...$$"
      ]
    },
    {
      "cell_type": "markdown",
      "metadata": {
        "id": "dSBZI9qA-uH3"
      },
      "source": [
        "Собственные значения задачи равны:"
      ]
    },
    {
      "cell_type": "markdown",
      "metadata": {
        "id": "2wbdXh9T-wHL"
      },
      "source": [
        "$$\\lambda_n = (\\frac{\\pi n}{l})^2, \\quad n = 1, 2, ...$$"
      ]
    },
    {
      "cell_type": "markdown",
      "metadata": {
        "id": "ZLR4uOtp_QJi"
      },
      "source": [
        "Им соответствуют собственные функции (с точностью до постоянного множителя):"
      ]
    },
    {
      "cell_type": "markdown",
      "metadata": {
        "id": "K3dGjD7C_S4K"
      },
      "source": [
        "$$X_n(x) = sin(\\frac{\\pi n x}{l}), \\quad n = 1, 2, ...$$"
      ]
    },
    {
      "cell_type": "markdown",
      "metadata": {
        "id": "nUmwvyYy_ucd"
      },
      "source": [
        "## Уравнение для функции $T(t)$ примет вид:"
      ]
    },
    {
      "cell_type": "markdown",
      "metadata": {
        "id": "v6AfD9nd_yVV"
      },
      "source": [
        "$$T''_n(t) + (\\frac{a \\pi n}{l})^2 T_k(t) = 0$$"
      ]
    },
    {
      "cell_type": "markdown",
      "metadata": {
        "id": "lMjieJ_dAB80"
      },
      "source": [
        "## Решение этого уравнения имеет вид:"
      ]
    },
    {
      "cell_type": "markdown",
      "metadata": {
        "id": "IwUFy4MhAFxY"
      },
      "source": [
        "<tex>$$T_n(t) = A_n*cos(\\frac{\\pi nta}{l}) + B_n*sin(\\frac{\\pi nta}{l})$$</tex>"
      ]
    },
    {
      "cell_type": "markdown",
      "metadata": {
        "id": "DjOgJmtUBPYz"
      },
      "source": [
        "## Решение $u(x, t)$ исходной задачи записывается в виде ряда:"
      ]
    },
    {
      "cell_type": "markdown",
      "metadata": {
        "id": "hm1_ZQhvBW39"
      },
      "source": [
        "<tex>$$u(x, t) = \\sum_{i=1}^\\infty T_n(t)X_n(x) = \\sum_{i=1}^\\infty \\left[(A_n*cos(\\frac{\\pi nta}{l}) + B_n*sin(\\frac{\\pi nta}{l})\\right] * sin(\\frac{\\pi nx}{l}) $$</tex>"
      ]
    },
    {
      "cell_type": "markdown",
      "metadata": {
        "id": "udaSmJDl4_RX"
      },
      "source": [
        "## Общий вид решения (по методу Фурье) для первой смешанной задачи (с граничными условиями вида (3)) :"
      ]
    },
    {
      "cell_type": "markdown",
      "metadata": {
        "id": "s2HLZBSEwtf5"
      },
      "source": [
        "<tex>$$u(x, t) = \\sum_{i=1}^\\infty \\left[(A_n*cos(\\frac{\\pi nta}{l}) + B_n*sin(\\frac{\\pi nta}{l})\\right] * sin(\\frac{\\pi nx}{l}) $$</tex>"
      ]
    },
    {
      "cell_type": "markdown",
      "metadata": {
        "id": "9GqMEbPdGtlO"
      },
      "source": [
        "где $A_n$ и $B_n$  находятся по формулам:"
      ]
    },
    {
      "cell_type": "markdown",
      "metadata": {
        "id": "vGCEJON5M0V0"
      },
      "source": [
        "<tex>$$A_n = \\frac{2}{l}\\int_0^l f_1(x)sin(\\frac{n\\pi x}{l}) dx, \\quad \\quad  B_n = \\frac{2}{\\pi n a}\\int_0^l f_2(x)sin(\\frac{n\\pi x}{l}) dx $$</tex>"
      ]
    },
    {
      "cell_type": "markdown",
      "metadata": {
        "id": "2TqlygQgXUnr"
      },
      "source": [
        "## Заметка"
      ]
    },
    {
      "cell_type": "markdown",
      "metadata": {
        "id": "8hlfTZ8BXH2W"
      },
      "source": [
        "$$sin(\\pi n) = 0$$"
      ]
    },
    {
      "cell_type": "markdown",
      "metadata": {
        "id": "6BfvBQWbXL_7"
      },
      "source": [
        "$$cos(\\pi n) = (-1)^n$$"
      ]
    },
    {
      "cell_type": "markdown",
      "metadata": {
        "id": "aqjS-_DZlR1R"
      },
      "source": [
        "Найдем $A_n$ по формуле:"
      ]
    },
    {
      "cell_type": "markdown",
      "metadata": {
        "id": "h3enUI6AtBh4"
      },
      "source": [
        "Вывод коэффициентов:"
      ]
    },
    {
      "cell_type": "code",
      "metadata": {
        "colab": {
          "base_uri": "https://localhost:8080/",
          "height": 222
        },
        "id": "t3zhC0Ecnxmj",
        "outputId": "69306ddc-cfd7-4d2c-b636-4582cbbedbe3"
      },
      "source": [
        "draw(latex(An) + \"=\" + latex(a_nn) + \"=\" + latex(mass_str))\n",
        "draw(latex(Bn) + \"=\" + latex(b_nn) + \"=\" + latex(mass_strr))"
      ],
      "execution_count": null,
      "outputs": [
        {
          "output_type": "display_data",
          "data": {
            "image/png": "[encoded data removed]",
            "text/plain": [
              "<Figure size 432x288 with 1 Axes>"
            ]
          },
          "metadata": {
            "tags": []
          }
        },
        {
          "output_type": "display_data",
          "data": {
            "image/png": "[encoded data removed]",
            "text/plain": [
              "<Figure size 432x288 with 1 Axes>"
            ]
          },
          "metadata": {
            "tags": []
          }
        }
      ]
    },
    {
      "cell_type": "markdown",
      "metadata": {
        "id": "uWDU7Iu1C9AR"
      },
      "source": [
        "# Решение:"
      ]
    },
    {
      "cell_type": "code",
      "metadata": {
        "colab": {
          "base_uri": "https://localhost:8080/",
          "height": 120
        },
        "id": "59o5zWsDEiWY",
        "outputId": "d13569e0-f02b-4972-d8c3-ee1fc6be3ad5"
      },
      "source": [
        "draw(latex('u(x, t)') + '=' + latex(u))"
      ],
      "execution_count": null,
      "outputs": [
        {
          "output_type": "display_data",
          "data": {
            "image/png": "[encoded data removed]",
            "text/plain": [
              "<Figure size 432x288 with 1 Axes>"
            ]
          },
          "metadata": {
            "tags": []
          }
        }
      ]
    }
  ]
}