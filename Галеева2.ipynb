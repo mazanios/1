{
  "nbformat": 4,
  "nbformat_minor": 0,
  "metadata": {
    "colab": {
      "name": "Галеева2.ipynb",
      "provenance": [],
      "collapsed_sections": [],
      "toc_visible": true
    },
    "kernelspec": {
      "name": "python3",
      "display_name": "Python 3"
    }
  },
  "cells": [
    {
      "cell_type": "markdown",
      "metadata": {
        "id": "a26yK24dAHOd"
      },
      "source": [
        "# Задача 2"
      ]
    },
    {
      "cell_type": "markdown",
      "metadata": {
        "id": "HTDfKshH_0-6"
      },
      "source": [
        "### Решение уравнения Пуассона при неоднородных (ненулевых) граничных\n",
        "### условиях во многих случаях целесообразно искать в виде суммы решения соответствующего однородного уравнения (уравнения Лапласа) при указанных\n",
        "### условиях и решения неоднородного уравнения (уравнения Пуассона) при однородных условиях. "
      ]
    },
    {
      "cell_type": "markdown",
      "metadata": {
        "id": "cVEjdanIut46"
      },
      "source": [
        "### Решите граничную задачу для уравнения Пуассона в кольце"
      ]
    },
    {
      "cell_type": "markdown",
      "metadata": {
        "id": "oETzG5FbvMCt"
      },
      "source": [
        "<tex>$$ u_{xx} + u_{yy} =\\frac {(x^2 - y^2)}{\\sqrt{(x^2 + y^2)}},\\quad R_1<r<R_2 \\quad \\quad (1) $$</tex>"
      ]
    },
    {
      "cell_type": "markdown",
      "metadata": {
        "id": "PTwEWXL6xMOj"
      },
      "source": [
        "<tex>$$ \\frac{du}{dr}|_{r = R_1} = f_1(x, y),\\quad u|_{r = R_2} = f_2(x, y) \\quad \\quad (2) $$</tex>"
      ]
    },
    {
      "cell_type": "markdown",
      "metadata": {
        "id": "q9QyiJHuzJ1V"
      },
      "source": [
        "## Условия варианта №3"
      ]
    },
    {
      "cell_type": "markdown",
      "metadata": {
        "id": "00susHKjy31s"
      },
      "source": [
        "$$R_1 = 1, \\quad R_2 = 4$$"
      ]
    },
    {
      "cell_type": "markdown",
      "metadata": {
        "id": "1louq2ufynJ-"
      },
      "source": [
        "$$f_1(x, y) = 0$$\n",
        "$$f_2(x, y) = y^2$$"
      ]
    },
    {
      "cell_type": "markdown",
      "metadata": {
        "id": "Mz5hAGxPyqFw"
      },
      "source": [
        "### Введем полярные координаты (r, fi) с помощью соотношений:"
      ]
    },
    {
      "cell_type": "markdown",
      "metadata": {
        "id": "wTQ5CL4oy2es"
      },
      "source": [
        "\\begin{equation*}\n",
        " \\begin{cases}\n",
        "   x = r*cos(fi), \n",
        "   \\\\\n",
        "   y = r*sin(fi).\n",
        " \\end{cases}\n",
        "\\end{equation*}"
      ]
    },
    {
      "cell_type": "markdown",
      "metadata": {
        "id": "IukIYfppzRXe"
      },
      "source": [
        "### Тогда уравнение Пуассона примет вид:"
      ]
    },
    {
      "cell_type": "markdown",
      "metadata": {
        "id": "WrBS9jZBzY4t"
      },
      "source": [
        "<tex>$$ r^2*u_{rr} + r*u_{r} + u_{fifi} = r^3*cos(2*fi)$$</tex>"
      ]
    },
    {
      "cell_type": "markdown",
      "metadata": {
        "id": "0nmygmXw2AVi"
      },
      "source": [
        "<tex>$$ \\frac{du}{dr}|_{r = R_1} = f_1(R_1*cos(fi), R_1*sin(fi)),\\quad u|_{r = R_2} = f_2(R_2*cos(fi), R_2*sin(fi)) $$</tex>"
      ]
    },
    {
      "cell_type": "markdown",
      "metadata": {
        "id": "z4qlPmOB8f5y"
      },
      "source": [
        "## И в уравнении (1), и в граничных условиях (2) правые части ненулевые,\n",
        "## то есть эти соотношения неоднородны. Будем искать решение задачи (1) –\n",
        "## (2) в виде суммы."
      ]
    },
    {
      "cell_type": "markdown",
      "metadata": {
        "id": "Qcsy2nZp26s9"
      },
      "source": [
        "### Будем искать решение в виде:"
      ]
    },
    {
      "cell_type": "markdown",
      "metadata": {
        "id": "1bh5DYy-3BoI"
      },
      "source": [
        "$$ u(r, fi) = v(r, fi) + w(r, fi)$$"
      ]
    },
    {
      "cell_type": "markdown",
      "metadata": {
        "id": "YgYh3J_G6NPe"
      },
      "source": [
        "### где v(r, fi) - решение линейного однородного дифференциального уравнения:"
      ]
    },
    {
      "cell_type": "markdown",
      "metadata": {
        "id": "Wasil-Q56aoe"
      },
      "source": [
        "<tex>$$ r^2*v_{rr} + r*v_{r} + v_{fifi} = 0$$</tex>"
      ]
    },
    {
      "cell_type": "markdown",
      "metadata": {
        "id": "oZo5NJ2u7BfG"
      },
      "source": [
        "<tex>$$ \\frac{dv}{dr}|_{r = R_1} = f_1(R_1*cos(fi), R_1*sin(fi)),\\quad v|_{r = R_2} = f_2(R_2*cos(fi), R_2*sin(fi)) $$</tex>"
      ]
    },
    {
      "cell_type": "markdown",
      "metadata": {
        "id": "87VpF28w7OWy"
      },
      "source": [
        "### w(r, fi) - решение линейного неоднородного дифференциального уравнения:"
      ]
    },
    {
      "cell_type": "markdown",
      "metadata": {
        "id": "l0OVoEYZ7c73"
      },
      "source": [
        "<tex>$$ r^2*w_{rr} + r*w_{r} + w_{fifi} = r^3*cos(2*fi)\\quad \\quad (3)$$</tex>"
      ]
    },
    {
      "cell_type": "markdown",
      "metadata": {
        "id": "jqa30-oL7iwZ"
      },
      "source": [
        "<tex>$$ \\frac{dw}{dr}|_{r = R_1} = 0,\\quad w|_{r = R_2} = 0\\quad \\quad (4) $$</tex>"
      ]
    },
    {
      "cell_type": "markdown",
      "metadata": {
        "id": "tWB9OLhFFE5R"
      },
      "source": [
        "# Найдем v(r, fi):"
      ]
    },
    {
      "cell_type": "markdown",
      "metadata": {
        "id": "dyk0DKPjGjXt"
      },
      "source": [
        "### Решение уравнения Лапласа в полярных координатах:"
      ]
    },
    {
      "cell_type": "markdown",
      "metadata": {
        "id": "XIAF8NnMHTVD"
      },
      "source": [
        "<tex>$$v(r, fi) = A_0 + B_0 * ln(r) + \\sum_{i=1}^\\infty \\left[(A_n*r^n + B_n*r^{-n})*cos(n*fi) + (C_n*r^n + D_n*r^{-n}) * sin(n*fi)\\right] $$</tex>"
      ]
    },
    {
      "cell_type": "markdown",
      "metadata": {
        "id": "7afnYJkvOU3o"
      },
      "source": [
        "### Найдем производную нашего решения по переменной r получим:"
      ]
    },
    {
      "cell_type": "markdown",
      "metadata": {
        "id": "OTmwEd9BPT1D"
      },
      "source": [
        "<tex>$$ \\frac{dv(r, fi)}{dr} = \\frac{B_0}{r} + \\sum_{i=1}^\\infty \\left[(n*A_n*r^{n-1} - n*B_n*r^{-n-1})*cos(n*fi) + (n*C_n*r^{n-1} + n*D_n*r^{-n-1}) * sin(n*fi)\\right] $$</tex>"
      ]
    },
    {
      "cell_type": "markdown",
      "metadata": {
        "id": "h9jW8yxTxnMH"
      },
      "source": [
        "### Найдем $A_0, B_0, A_n, B_n, C_n, D_n$ используя краевые условия:"
      ]
    },
    {
      "cell_type": "code",
      "metadata": {
        "id": "qpQAlxR3xbKS",
        "colab": {
          "base_uri": "https://localhost:8080/",
          "height": 217
        },
        "outputId": "25c1b40f-49e1-4d69-b371-c98a39f3ee3a"
      },
      "source": [
        "draw(a)\n",
        "draw(b)"
      ],
      "execution_count": null,
      "outputs": [
        {
          "output_type": "display_data",
          "data": {
            "image/png": "[encoded data removed]",
            "text/plain": [
              "<Figure size 432x288 with 1 Axes>"
            ]
          },
          "metadata": {
            "tags": []
          }
        },
        {
          "output_type": "display_data",
          "data": {
            "image/png": "[encoded data removed]",
            "text/plain": [
              "<Figure size 432x288 with 1 Axes>"
            ]
          },
          "metadata": {
            "tags": []
          }
        }
      ]
    },
    {
      "cell_type": "markdown",
      "metadata": {
        "id": "mhbFb2kWyA1v"
      },
      "source": [
        "### Подставим краевые условия:"
      ]
    },
    {
      "cell_type": "code",
      "metadata": {
        "id": "PAgdguPqxlzy",
        "colab": {
          "base_uri": "https://localhost:8080/",
          "height": 217
        },
        "outputId": "a713c781-095c-4cbb-acd0-909b8fcabeb9"
      },
      "source": [
        "draw(a)\n",
        "draw(b)"
      ],
      "execution_count": null,
      "outputs": [
        {
          "output_type": "display_data",
          "data": {
            "image/png": "[encoded data removed]",
            "text/plain": [
              "<Figure size 432x288 with 1 Axes>"
            ]
          },
          "metadata": {
            "tags": []
          }
        },
        {
          "output_type": "display_data",
          "data": {
            "image/png": "[encoded data removed]",
            "text/plain": [
              "<Figure size 432x288 with 1 Axes>"
            ]
          },
          "metadata": {
            "tags": []
          }
        }
      ]
    },
    {
      "cell_type": "markdown",
      "metadata": {
        "id": "a4s3o5tipPSN"
      },
      "source": [
        "## Получили систему :"
      ]
    },
    {
      "cell_type": "markdown",
      "metadata": {
        "id": "6I9OVONupVe5"
      },
      "source": [
        "\\begin{equation*}\n",
        " \\begin{cases}\n",
        "   B_0 = 0, \n",
        "   \\\\\n",
        "   nA_n - nB_n = 0,\n",
        "   \\\\\n",
        "    n C_n - nD_n = 0\n",
        "    \\\\\n",
        "     A_0 + 1.4B_0 = 8,\n",
        "     \\\\\n",
        "     4^nA_n + 4^{-n}B_n = -8,\n",
        "     \\\\\n",
        "     \\forall n = 1,2.\n",
        " \\end{cases}\n",
        "\\end{equation*}"
      ]
    },
    {
      "cell_type": "markdown",
      "metadata": {
        "id": "5WqqrC5npE_4"
      },
      "source": [
        "$$$$"
      ]
    },
    {
      "cell_type": "markdown",
      "metadata": {
        "id": "DhKxPCu6qw3s"
      },
      "source": [
        "## Получим решение:"
      ]
    },
    {
      "cell_type": "markdown",
      "metadata": {
        "id": "JaTczcH4q1B3"
      },
      "source": [
        "$$A_0 = 8, B_0 = 0,\\quad C_1 = C_2 = D_1 = D_2 = 0,\\quad A_1 = B_1 = -1.9, \\quad A_2 = B_2 = -0.5 $$"
      ]
    },
    {
      "cell_type": "markdown",
      "metadata": {
        "id": "pNwb8knzhKx4"
      },
      "source": [
        "### Подставив коээфициенты получим решение:"
      ]
    },
    {
      "cell_type": "code",
      "metadata": {
        "id": "mwufYW_Bxv0W",
        "colab": {
          "base_uri": "https://localhost:8080/",
          "height": 117
        },
        "outputId": "dcb0dde4-cca7-42c3-8bfd-599071fb79b0"
      },
      "source": [
        "draw(a)"
      ],
      "execution_count": null,
      "outputs": [
        {
          "output_type": "display_data",
          "data": {
            "image/png": "[encoded data removed]",
            "text/plain": [
              "<Figure size 432x288 with 1 Axes>"
            ]
          },
          "metadata": {
            "tags": []
          }
        }
      ]
    },
    {
      "cell_type": "markdown",
      "metadata": {
        "id": "qKAzVbOVFHR1"
      },
      "source": [
        "# Найдем w(r, fi)"
      ]
    },
    {
      "cell_type": "markdown",
      "metadata": {
        "id": "WAyXrztBiBa0"
      },
      "source": [
        "### Рассмотрим уравнение (3) при условиях (4). Будем искать решение этого\n",
        "### уравнения в виде:"
      ]
    },
    {
      "cell_type": "markdown",
      "metadata": {
        "id": "btMgGo6tio5p"
      },
      "source": [
        "<tex>$$ w(r, fi) = f(r) * cos(2 * fi)$$</tex>"
      ]
    },
    {
      "cell_type": "markdown",
      "metadata": {
        "id": "h3z-TZ1_jEJq"
      },
      "source": [
        "### Подставив данное выражение в уравнение (3), получим краевую задачу\n",
        "### для функции f (r): "
      ]
    },
    {
      "cell_type": "markdown",
      "metadata": {
        "id": "HtA0djB9jJjN"
      },
      "source": [
        "<tex>$$ r^2f''(r) + rf'(r) - 4f(r) = r^3\\quad \\quad (5)$$</tex>"
      ]
    },
    {
      "cell_type": "markdown",
      "metadata": {
        "id": "szCgxJ0-lgbe"
      },
      "source": [
        "<tex>$$ f'|_{r = R_1} = 0,\\quad f|_{r = R_2} = 0\\quad \\quad (6)$$</tex>"
      ]
    },
    {
      "cell_type": "markdown",
      "metadata": {
        "id": "upOWBprqmNk-"
      },
      "source": [
        "### Таким образом, мы свели решение краевой задачи (3) – (4) в частных\n",
        "### производных к решению краевой задачи (5) – (6) для обыкновенного линейного дифференциального уравнения (6) (уравнения Эйлера)."
      ]
    },
    {
      "cell_type": "markdown",
      "metadata": {
        "id": "cbTP15zYmlo1"
      },
      "source": [
        "### Общее решение однородного уравнения :"
      ]
    },
    {
      "cell_type": "markdown",
      "metadata": {
        "id": "Ni5dbfh1mnY2"
      },
      "source": [
        "<tex>$$ r^2f''(r) + rf'(r) - 4f(r) = r^3$$</tex>"
      ]
    },
    {
      "cell_type": "markdown",
      "metadata": {
        "id": "crow9jVKnFfF"
      },
      "source": [
        "### будет иметь вид:"
      ]
    },
    {
      "cell_type": "markdown",
      "metadata": {
        "id": "xkmNyfK_nOft"
      },
      "source": [
        "<tex>$$ f_0(r) = C_1 * r^2 + C_2 * r^{-2}$$</tex>"
      ]
    },
    {
      "cell_type": "markdown",
      "metadata": {
        "id": "xgQCG0V8neX9"
      },
      "source": [
        "### где C1, C2 - произвольные постоянные. "
      ]
    },
    {
      "cell_type": "markdown",
      "metadata": {
        "id": "jDJaJcm-norJ"
      },
      "source": [
        "### Частное решение неоднородного уравнения (5) может быть найдено в\n",
        "### форме:"
      ]
    },
    {
      "cell_type": "markdown",
      "metadata": {
        "id": "uz6WKToxoC_T"
      },
      "source": [
        "<tex>$$ f_1(r) = A*r^3$$</tex>"
      ]
    },
    {
      "cell_type": "markdown",
      "metadata": {
        "id": "QbzktbJcoZ9s"
      },
      "source": [
        "### Подставляя в (5), получаем:"
      ]
    },
    {
      "cell_type": "markdown",
      "metadata": {
        "id": "2berN3xWpAJZ"
      },
      "source": [
        "<tex>$$ 6Ar^3 + 3Ar^3 - 4Ar^3 = r^3$$</tex>"
      ]
    },
    {
      "cell_type": "markdown",
      "metadata": {
        "id": "O_rmdlQAqQVS"
      },
      "source": [
        "### Выразим A:"
      ]
    },
    {
      "cell_type": "markdown",
      "metadata": {
        "id": "m84X6kYlqVrN"
      },
      "source": [
        "$$A = \\frac{1}{5}, f1(r) = \\frac{1}{5}r^3$$"
      ]
    },
    {
      "cell_type": "markdown",
      "metadata": {
        "id": "i6hXRQItrczt"
      },
      "source": [
        "### Следовательно получим общее решение уравнения:"
      ]
    },
    {
      "cell_type": "markdown",
      "metadata": {
        "id": "mb28GkXCrlPK"
      },
      "source": [
        "<tex>$$ f(r) = C_1r^2 + C_2r^{-2} + \\frac{1}{5}r^3$$</tex>"
      ]
    },
    {
      "cell_type": "markdown",
      "metadata": {
        "id": "hmnI51dCsVuM"
      },
      "source": [
        "### Найдем производную:"
      ]
    },
    {
      "cell_type": "markdown",
      "metadata": {
        "id": "LevgJzjisXe8"
      },
      "source": [
        "<tex>$$ f'(r) = 2C_1r - 2C_2r^{-3} + \\frac{3}{5}r^2$$</tex>"
      ]
    },
    {
      "cell_type": "markdown",
      "metadata": {
        "id": "vR5-aN3Fte1y"
      },
      "source": [
        "### Используя краевые условия (6), получим:\n"
      ]
    },
    {
      "cell_type": "code",
      "metadata": {
        "id": "rF7j3pa7yGTl",
        "colab": {
          "base_uri": "https://localhost:8080/",
          "height": 117
        },
        "outputId": "fce56411-edf9-40cc-bdd7-e56176660be8"
      },
      "source": [
        "draw(a)"
      ],
      "execution_count": null,
      "outputs": [
        {
          "output_type": "display_data",
          "data": {
            "image/png": "[encoded data removed]",
            "text/plain": [
              "<Figure size 432x288 with 1 Axes>"
            ]
          },
          "metadata": {
            "tags": []
          }
        }
      ]
    },
    {
      "cell_type": "markdown",
      "metadata": {
        "id": "rcyj8-6hwfG3"
      },
      "source": [
        "### Тогда получим, что w(r, fi):"
      ]
    },
    {
      "cell_type": "code",
      "metadata": {
        "id": "pSxjub12yMTQ",
        "colab": {
          "base_uri": "https://localhost:8080/",
          "height": 117
        },
        "outputId": "5510bf6b-8ee9-43c4-e0d6-b52712ee3488"
      },
      "source": [
        "draw(a)"
      ],
      "execution_count": null,
      "outputs": [
        {
          "output_type": "display_data",
          "data": {
            "image/png": "[encoded data removed]",
            "text/plain": [
              "<Figure size 432x288 with 1 Axes>"
            ]
          },
          "metadata": {
            "tags": []
          }
        }
      ]
    },
    {
      "cell_type": "markdown",
      "metadata": {
        "id": "1hH2teXyyl2L"
      },
      "source": [
        "# Сложим наши решения  двух задача v(r, fi) и w(r, fi):"
      ]
    },
    {
      "cell_type": "markdown",
      "metadata": {
        "id": "7KR_ToWyzBF_"
      },
      "source": [
        "## Получим ответ задачи:"
      ]
    },
    {
      "cell_type": "code",
      "metadata": {
        "id": "9WQJGTx4zWDG",
        "colab": {
          "base_uri": "https://localhost:8080/",
          "height": 117
        },
        "outputId": "c32896ef-6ac4-44b4-fb94-f2d8956e128b"
      },
      "source": [
        "draw(a)"
      ],
      "execution_count": null,
      "outputs": [
        {
          "output_type": "display_data",
          "data": {
            "image/png": "[encoded data removed]",
            "text/plain": [
              "<Figure size 432x288 with 1 Axes>"
            ]
          },
          "metadata": {
            "tags": []
          }
        }
      ]
    }
  ]
}